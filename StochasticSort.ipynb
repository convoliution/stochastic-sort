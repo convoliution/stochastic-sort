{
 "cells": [
  {
   "cell_type": "code",
   "execution_count": 1,
   "metadata": {
    "scrolled": true
   },
   "outputs": [],
   "source": [
    "import numpy as np\n",
    "import tensorflow as tf\n",
    "\n",
    "import utils"
   ]
  },
  {
   "cell_type": "code",
   "execution_count": 51,
   "metadata": {
    "scrolled": true
   },
   "outputs": [
    {
     "name": "stdout",
     "output_type": "stream",
     "text": [
      "[18 14  4  5 11 14 15 17  0 19  5  2 16 16  0 15 12 17  1 13]\n",
      "[ 0  0  1  2  4  5  5 11 12 13 14 14 15 15 16 16 17 17 18 19]\n",
      "Number of iterations: 596\n",
      "Score: 368\n"
     ]
    }
   ],
   "source": [
    "arraySize = 20\n",
    "testArray = np.random.randint(0, arraySize, arraySize)\n",
    "print(testArray)\n",
    "\n",
    "sortedArray = np.sort(testArray)\n",
    "numIter = 0\n",
    "while not np.array_equal(testArray, sortedArray):\n",
    "    numIter += 1\n",
    "    score = utils.evaluate(testArray)\n",
    "    newArray = np.copy(testArray)\n",
    "    i1 = np.random.randint(testArray.size)\n",
    "    while True:\n",
    "        i2 = np.random.randint(testArray.size)\n",
    "        if i2 != i1:\n",
    "            break\n",
    "    (newArray[i2], newArray[i1]) = (newArray[i1], newArray[i2])\n",
    "    if score < utils.evaluate(newArray):\n",
    "        testArray = newArray\n",
    "print(testArray)\n",
    "print(\"Number of iterations: {}\".format(numIter))\n",
    "print(\"Score: {}\".format(utils.evaluate(testArray)))"
   ]
  },
  {
   "cell_type": "code",
   "execution_count": null,
   "metadata": {
    "collapsed": true
   },
   "outputs": [],
   "source": []
  }
 ],
 "metadata": {
  "kernelspec": {
   "display_name": "Python 3",
   "language": "python",
   "name": "python3"
  },
  "language_info": {
   "codemirror_mode": {
    "name": "ipython",
    "version": 3
   },
   "file_extension": ".py",
   "mimetype": "text/x-python",
   "name": "python",
   "nbconvert_exporter": "python",
   "pygments_lexer": "ipython3",
   "version": "3.6.2"
  }
 },
 "nbformat": 4,
 "nbformat_minor": 2
}
