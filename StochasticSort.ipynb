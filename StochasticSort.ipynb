{
 "cells": [
  {
   "cell_type": "code",
   "execution_count": 1,
   "metadata": {
    "collapsed": true,
    "scrolled": true
   },
   "outputs": [],
   "source": [
    "import numpy as np\n",
    "import tensorflow as tf\n",
    "\n",
    "import utils"
   ]
  },
  {
   "cell_type": "code",
   "execution_count": 2,
   "metadata": {
    "scrolled": true
   },
   "outputs": [
    {
     "name": "stdout",
     "output_type": "stream",
     "text": [
      "[ 5 32 13  4 15  5 12 43 21 48 21 31 40 28 36 33 15 48 21  0  3 35 38 21 42\n",
      " 40 26 19 27 19 27 45 44 39 18  1  7 46 44 30 24 16 18 33  2 36 16 46 32 13]\n",
      "[ 0  1  2  3  4  5  5  7 12 13 13 15 15 16 16 18 18 19 19 21 21 21 21 24 26\n",
      " 27 27 28 30 31 32 32 33 33 35 36 36 38 39 40 40 42 43 44 44 45 46 46 48 48]\n",
      "Number of iterations: 5448\n",
      "Score: 2410\n"
     ]
    }
   ],
   "source": [
    "arraySize = 50\n",
    "testArray = np.random.randint(0, arraySize, arraySize)\n",
    "print(testArray)\n",
    "\n",
    "numIter = 0\n",
    "while not utils.isSorted(testArray):\n",
    "    numIter += 1\n",
    "    \n",
    "    oldScore = utils.score(testArray)\n",
    "    newArray = np.copy(testArray)\n",
    "    \n",
    "    i1 = np.random.randint(testArray.size)\n",
    "    while True:\n",
    "        i2 = np.random.randint(testArray.size)\n",
    "        if i2 != i1:\n",
    "            break\n",
    "            \n",
    "    (newArray[i2], newArray[i1]) = (newArray[i1], newArray[i2])\n",
    "         \n",
    "    if oldScore < utils.score(newArray):\n",
    "        testArray = newArray\n",
    "        \n",
    "print(testArray)\n",
    "print(\"Number of iterations: {}\".format(numIter))\n",
    "print(\"Score: {}\".format(utils.score(testArray)))"
   ]
  },
  {
   "cell_type": "code",
   "execution_count": null,
   "metadata": {
    "collapsed": true
   },
   "outputs": [],
   "source": []
  }
 ],
 "metadata": {
  "kernelspec": {
   "display_name": "Python 3",
   "language": "python",
   "name": "python3"
  },
  "language_info": {
   "codemirror_mode": {
    "name": "ipython",
    "version": 3
   },
   "file_extension": ".py",
   "mimetype": "text/x-python",
   "name": "python",
   "nbconvert_exporter": "python",
   "pygments_lexer": "ipython3",
   "version": "3.6.2"
  }
 },
 "nbformat": 4,
 "nbformat_minor": 2
}
