{
 "cells": [
  {
   "cell_type": "code",
   "execution_count": 1,
   "metadata": {
    "collapsed": true,
    "scrolled": false
   },
   "outputs": [],
   "source": [
    "import numpy as np\n",
    "\n",
    "import Stochastic\n",
    "import utils"
   ]
  },
  {
   "cell_type": "code",
   "execution_count": 40,
   "metadata": {
    "scrolled": false
   },
   "outputs": [
    {
     "name": "stdout",
     "output_type": "stream",
     "text": [
      "[1 7 7 8 2 5 1 7 4 8]\n",
      "12\n"
     ]
    }
   ],
   "source": [
    "arraySize = 10\n",
    "old_train = np.random.randint(0, arraySize, arraySize)\n",
    "print(old_train)\n",
    "old_score = utils.score(old_train)\n",
    "print(old_score)"
   ]
  },
  {
   "cell_type": "code",
   "execution_count": 41,
   "metadata": {
    "scrolled": true
   },
   "outputs": [],
   "source": [
    "sorter = Stochastic.Sorter(arraySize)"
   ]
  },
  {
   "cell_type": "code",
   "execution_count": 42,
   "metadata": {
    "scrolled": false
   },
   "outputs": [
    {
     "name": "stdout",
     "output_type": "stream",
     "text": [
      "[1 2 1 4 5 7 7 7 8 8]\n",
      "76\n"
     ]
    }
   ],
   "source": [
    "new_train = sorter.sort(old_train)\n",
    "print(new_train.reshape(-1,).astype(int))\n",
    "new_score = int(utils.score(new_train))\n",
    "print(new_score)"
   ]
  },
  {
   "cell_type": "code",
   "execution_count": 43,
   "metadata": {},
   "outputs": [
    {
     "name": "stdout",
     "output_type": "stream",
     "text": [
      "[1 7 7 8 2 5 1 7 4 8] -> [1 2 1 4 5 7 7 7 8 8], score diff 64\n"
     ]
    }
   ],
   "source": [
    "print(\"{} -> {}, score diff {}\"\n",
    "      .format(old_train, new_train.reshape(-1,).astype(int), new_score - old_score))"
   ]
  }
 ],
 "metadata": {
  "kernelspec": {
   "display_name": "Python 3",
   "language": "python",
   "name": "python3"
  },
  "language_info": {
   "codemirror_mode": {
    "name": "ipython",
    "version": 3
   },
   "file_extension": ".py",
   "mimetype": "text/x-python",
   "name": "python",
   "nbconvert_exporter": "python",
   "pygments_lexer": "ipython3",
   "version": "3.6.2"
  }
 },
 "nbformat": 4,
 "nbformat_minor": 2
}
