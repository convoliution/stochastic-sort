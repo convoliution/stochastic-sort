{
 "cells": [
  {
   "cell_type": "code",
   "execution_count": 1,
   "metadata": {
    "scrolled": true
   },
   "outputs": [],
   "source": [
    "import numpy as np\n",
    "import tensorflow as tf\n",
    "\n",
    "import utils"
   ]
  },
  {
   "cell_type": "code",
   "execution_count": 2,
   "metadata": {
    "scrolled": true
   },
   "outputs": [
    {
     "name": "stdout",
     "output_type": "stream",
     "text": [
      "[0 1 0 0 1]\n",
      "[0 0 0 1 1]\n",
      "Number of iterations: 6\n",
      "Score: 12\n"
     ]
    }
   ],
   "source": [
    "arraySize = 5\n",
    "testArray = np.random.randint(0, arraySize, arraySize)\n",
    "print(testArray)\n",
    "\n",
    "numIter = 0\n",
    "while not utils.isSorted(testArray):\n",
    "    numIter += 1\n",
    "    \n",
    "    oldScore = utils.score(testArray)\n",
    "    newArray = np.copy(testArray)\n",
    "    \n",
    "    i1 = np.random.randint(testArray.size)\n",
    "    while True:\n",
    "        i2 = np.random.randint(testArray.size)\n",
    "        if i2 != i1:\n",
    "            break\n",
    "            \n",
    "    (newArray[i2], newArray[i1]) = (newArray[i1], newArray[i2])\n",
    "    \n",
    "    if oldScore < utils.score(newArray):\n",
    "        testArray = newArray\n",
    "        \n",
    "print(testArray)\n",
    "print(\"Number of iterations: {}\".format(numIter))\n",
    "print(\"Score: {}\".format(utils.score(testArray)))"
   ]
  },
  {
   "cell_type": "code",
   "execution_count": null,
   "metadata": {
    "collapsed": true
   },
   "outputs": [],
   "source": []
  }
 ],
 "metadata": {
  "kernelspec": {
   "display_name": "Python 3",
   "language": "python",
   "name": "python3"
  },
  "language_info": {
   "codemirror_mode": {
    "name": "ipython",
    "version": 3
   },
   "file_extension": ".py",
   "mimetype": "text/x-python",
   "name": "python",
   "nbconvert_exporter": "python",
   "pygments_lexer": "ipython3",
   "version": "3.6.2"
  }
 },
 "nbformat": 4,
 "nbformat_minor": 2
}
